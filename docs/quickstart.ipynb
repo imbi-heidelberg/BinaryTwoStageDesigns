{
 "cells": [
  {
   "cell_type": "markdown",
   "metadata": {},
   "source": [
    "# BinaryTwoStageDesigns - Quickstart\n",
    "\n",
    "This is a [jupyter](http://jupyter.org) notebook using the [Julia](https://julialang.org/) kernel [IJulia.jl](https://github.com/JuliaLang/IJulia.jl) demonstrating the use of the julia package [BinaryTwoStageDesigns](https://github.com/imbi-heidelberg/BinaryTwoStageDesigns).\n",
    "\n",
    "To run this notebook, a working installation of the [Gurobi](http://www.gurobi.com/index) solver and the [corresponding Julia interface](https://github.com/JuliaOpt/Gurobi.jl) for [JuMP](https://jump.readthedocs.io/en/latest/) is required. "
   ]
  },
  {
   "cell_type": "code",
   "execution_count": 1,
   "metadata": {},
   "outputs": [
    {
     "name": "stderr",
     "output_type": "stream",
     "text": [
      "\u001b[1m\u001b[34mINFO: Recompiling stale cache file C:\\Users\\Kunzmann\\.julia\\lib\\v0.5\\BinaryTwoStageDesigns.ji for module BinaryTwoStageDesigns.\n",
      "\u001b[0mWARNING: Method definition describe(AbstractArray) in module StatsBase at C:\\Users\\Kunzmann\\.julia\\v0.5\\StatsBase\\src\\scalarstats.jl:573 overwritten in module DataFrames at C:\\Users\\Kunzmann\\.julia\\v0.5\\DataFrames\\src\\abstractdataframe\\abstractdataframe.jl:407.\n",
      "WARNING: Method definition describe"
     ]
    }
   ],
   "source": [
    "using BinaryTwoStageDesigns\n",
    "using Gurobi"
   ]
  },
  {
   "cell_type": "markdown",
   "metadata": {},
   "source": [
    "## Setting\n",
    "\n",
    "Assume that a new anti-cancer agent is to be tested against a historical response rate of $p_0=0.2$ in a phase-II trial and a response rate of $p_1=0.4$ is expected.\n",
    "The maximal tolerable type-I-error rate for testing $\\mathcal{H}_0:p\\leq p_0$ is 5% and a type-II-error rate of 20% is deemed acceptable at $p_1=0.4$.\n",
    "The corresponding single-stage design would require $n=47$ patients in this situation."
   ]
  },
  {
   "cell_type": "code",
   "execution_count": 2,
   "metadata": {},
   "outputs": [
    {
     "name": "stderr",
     "output_type": "stream",
     "text": [
      "(AbstractArray) in module StatsBase at C:\\Users\\Kunzmann\\.julia\\v0.5\\StatsBase\\src\\scalarstats.jl:573 overwritten in module DataFrames at C:\\Users\\Kunzmann\\.julia\\v0.5\\DataFrames\\src\\abstractdataframe\\abstractdataframe.jl:407.\n"
     ]
    },
    {
     "data": {
      "text/plain": [
       "47"
      ]
     },
     "execution_count": 2,
     "metadata": {},
     "output_type": "execute_result"
    }
   ],
   "source": [
    "p0   = 0.2\n",
    "p1   = 0.4\n",
    "tter = 0.2\n",
    "toer = 0.05\n",
    "nfix = 47 # (required sample size for one-stage design)"
   ]
  },
  {
   "cell_type": "markdown",
   "metadata": {},
   "source": [
    "## Adaptive Design\n",
    "\n",
    "Alternatively, a two-stage adaptive design could be used which minimizes the expected sample size under $p_1=0.4$ subject to the same constraints. \n",
    "Additionally, for operational reasons a potential second stage must enroll at least 5 patients. Also, upon rejection of the null hypothesis, at least 25 patients must be enrolled to ensure a sufficiently precise effect estimate for subsequent phase-III planning."
   ]
  },
  {
   "cell_type": "markdown",
   "metadata": {},
   "source": [
    "### Sample Space\n",
    "\n",
    "First, a sample space object is defined. It simply holds infomarion about the allowable search space for the optimization algorithm. Here, the range of possible stage-one sample sizes is limited to 10 to 25, the maximal overall sample size to 100, and the obove mentioned constraints are also passed as optional arguments. "
   ]
  },
  {
   "cell_type": "code",
   "execution_count": 3,
   "metadata": {},
   "outputs": [
    {
     "data": {
      "text/plain": [
       "BinaryTwoStageDesigns.SimpleSampleSpace{Int64}([10,11,12,13,14,15,16,17,18,19,20,21,22,23,24,25],100,5,10.0,25,500000,false,Int64[])"
      ]
     },
     "execution_count": 3,
     "metadata": {},
     "output_type": "execute_result"
    }
   ],
   "source": [
    "splspc = SimpleSampleSpace(\n",
    "    10:25,        # n1 range\n",
    "    100,          # nmax\n",
    "    n2min = 5,    # minimum second stage \n",
    "    nmincont = 25 # minimum overall sample size on continuation (incl. stopping for efficacy)\n",
    ")"
   ]
  },
  {
   "cell_type": "markdown",
   "metadata": {},
   "source": [
    "### Parameters\n",
    "\n",
    "Next, the design parameters are also stored in an object. For a `SimpleMinimalExpectedSampleSize`-object only $p_0, p_1$ type one and two error rates and the parameter value for which the expected sample size is to be minimized are required besides the sample space object created earlier."
   ]
  },
  {
   "cell_type": "code",
   "execution_count": 4,
   "metadata": {},
   "outputs": [
    {
     "data": {
      "text/plain": [
       "BinaryTwoStageDesigns.SimpleMinimalExpectedSampleSize{BinaryTwoStageDesigns.SimpleSampleSpace{Int64}}(BinaryTwoStageDesigns.SimpleSampleSpace{Int64}([10,11,12,13,14,15,16,17,18,19,20,21,22,23,24,25],100,5,10.0,25,500000,false,Int64[]),0.2,0.4,0.05,0.2,0.4,0.0,true,0.0)"
      ]
     },
     "execution_count": 4,
     "metadata": {},
     "output_type": "execute_result"
    }
   ],
   "source": [
    "params = SimpleMinimalExpectedSampleSize(\n",
    "    splspc,     # sample space\n",
    "    p0, p1,     # null and planning alternative\n",
    "    toer, tter, # max. type one and two error rates\n",
    "    p1          # alternative on which to minimize expected sample size\n",
    ")"
   ]
  },
  {
   "cell_type": "markdown",
   "metadata": {},
   "source": [
    "### Optimization\n",
    "\n",
    "Finally, a solver can be defined and the optiization process is started. Note that both the optimal design as well as all design found while exhaustively exploting the $n_1$-space are returned. The basic technique via integer programming has been desribed in [Kunzmann & Kieser 2016](https://arxiv.org/abs/1605.00249)."
   ]
  },
  {
   "cell_type": "code",
   "execution_count": 5,
   "metadata": {},
   "outputs": [
    {
     "data": {
      "text/plain": [
       "Gurobi.GurobiSolver(nothing,Any[(:OutputFlag,0)])"
      ]
     },
     "execution_count": 5,
     "metadata": {},
     "output_type": "execute_result"
    }
   ],
   "source": [
    "solver = GurobiSolver(OutputFlag = 0)"
   ]
  },
  {
   "cell_type": "code",
   "execution_count": 6,
   "metadata": {},
   "outputs": [
    {
     "data": {
      "text/html": [
       "<table class=\"data-frame\"><thead><tr><th></th><th>x1</th><th>n</th><th>c</th></tr></thead><tbody><tr><th>1</th><td>0</td><td>25</td><td>Inf</td></tr><tr><th>2</th><td>1</td><td>25</td><td>Inf</td></tr><tr><th>3</th><td>2</td><td>25</td><td>Inf</td></tr><tr><th>4</th><td>3</td><td>25</td><td>Inf</td></tr><tr><th>5</th><td>4</td><td>25</td><td>Inf</td></tr><tr><th>6</th><td>5</td><td>25</td><td>Inf</td></tr><tr><th>7</th><td>6</td><td>25</td><td>Inf</td></tr><tr><th>8</th><td>7</td><td>33</td><td>10.0</td></tr><tr><th>9</th><td>8</td><td>31</td><td>10.0</td></tr><tr><th>10</th><td>9</td><td>30</td><td>9.0</td></tr><tr><th>11</th><td>10</td><td>25</td><td>-Inf</td></tr><tr><th>12</th><td>11</td><td>25</td><td>-Inf</td></tr><tr><th>13</th><td>12</td><td>25</td><td>-Inf</td></tr><tr><th>14</th><td>13</td><td>25</td><td>-Inf</td></tr><tr><th>15</th><td>14</td><td>25</td><td>-Inf</td></tr><tr><th>16</th><td>15</td><td>25</td><td>-Inf</td></tr><tr><th>17</th><td>16</td><td>25</td><td>-Inf</td></tr><tr><th>18</th><td>17</td><td>25</td><td>-Inf</td></tr><tr><th>19</th><td>18</td><td>25</td><td>-Inf</td></tr><tr><th>20</th><td>19</td><td>25</td><td>-Inf</td></tr><tr><th>21</th><td>20</td><td>25</td><td>-Inf</td></tr><tr><th>22</th><td>21</td><td>25</td><td>-Inf</td></tr><tr><th>23</th><td>22</td><td>25</td><td>-Inf</td></tr><tr><th>24</th><td>23</td><td>25</td><td>-Inf</td></tr><tr><th>25</th><td>24</td><td>25</td><td>-Inf</td></tr><tr><th>26</th><td>25</td><td>25</td><td>-Inf</td></tr></tbody></table>"
      ],
      "text/plain": [
       "26×3 DataFrames.DataFrame\n",
       "│ Row │ x1 │ n  │ c    │\n",
       "├─────┼────┼────┼──────┤\n",
       "│ 1   │ 0  │ 25 │ Inf  │\n",
       "│ 2   │ 1  │ 25 │ Inf  │\n",
       "│ 3   │ 2  │ 25 │ Inf  │\n",
       "│ 4   │ 3  │ 25 │ Inf  │\n",
       "│ 5   │ 4  │ 25 │ Inf  │\n",
       "│ 6   │ 5  │ 25 │ Inf  │\n",
       "│ 7   │ 6  │ 25 │ Inf  │\n",
       "│ 8   │ 7  │ 33 │ 10.0 │\n",
       "│ 9   │ 8  │ 31 │ 10.0 │\n",
       "│ 10  │ 9  │ 30 │ 9.0  │\n",
       "│ 11  │ 10 │ 25 │ -Inf │\n",
       "⋮\n",
       "│ 15  │ 14 │ 25 │ -Inf │\n",
       "│ 16  │ 15 │ 25 │ -Inf │\n",
       "│ 17  │ 16 │ 25 │ -Inf │\n",
       "│ 18  │ 17 │ 25 │ -Inf │\n",
       "│ 19  │ 18 │ 25 │ -Inf │\n",
       "│ 20  │ 19 │ 25 │ -Inf │\n",
       "│ 21  │ 20 │ 25 │ -Inf │\n",
       "│ 22  │ 21 │ 25 │ -Inf │\n",
       "│ 23  │ 22 │ 25 │ -Inf │\n",
       "│ 24  │ 23 │ 25 │ -Inf │\n",
       "│ 25  │ 24 │ 25 │ -Inf │\n",
       "│ 26  │ 25 │ 25 │ -Inf │"
      ]
     },
     "execution_count": 6,
     "metadata": {},
     "output_type": "execute_result"
    }
   ],
   "source": [
    "design, res = getoptimaldesign(params, solver, VERBOSE = 0)\n",
    "using DataFrames\n",
    "convert(DataFrame, design)"
   ]
  },
  {
   "cell_type": "markdown",
   "metadata": {},
   "source": [
    "Here, the combination of operational constraint ($n_2\\geq 5$) and the requirement to have at last 25 subjects upon rejection lead to a design with relatively large first stage (25) and almost constant second stage sample size.\n",
    "We can explore how the ommission of these two constriants would alter the optial design:"
   ]
  },
  {
   "cell_type": "code",
   "execution_count": 7,
   "metadata": {},
   "outputs": [
    {
     "data": {
      "text/html": [
       "<table class=\"data-frame\"><thead><tr><th></th><th>x1</th><th>n</th><th>c</th></tr></thead><tbody><tr><th>1</th><td>0</td><td>16</td><td>Inf</td></tr><tr><th>2</th><td>1</td><td>16</td><td>Inf</td></tr><tr><th>3</th><td>2</td><td>16</td><td>Inf</td></tr><tr><th>4</th><td>3</td><td>16</td><td>Inf</td></tr><tr><th>5</th><td>4</td><td>44</td><td>14.0</td></tr><tr><th>6</th><td>5</td><td>34</td><td>11.0</td></tr><tr><th>7</th><td>6</td><td>29</td><td>9.0</td></tr><tr><th>8</th><td>7</td><td>16</td><td>-Inf</td></tr><tr><th>9</th><td>8</td><td>16</td><td>-Inf</td></tr><tr><th>10</th><td>9</td><td>16</td><td>-Inf</td></tr><tr><th>11</th><td>10</td><td>16</td><td>-Inf</td></tr><tr><th>12</th><td>11</td><td>16</td><td>-Inf</td></tr><tr><th>13</th><td>12</td><td>16</td><td>-Inf</td></tr><tr><th>14</th><td>13</td><td>16</td><td>-Inf</td></tr><tr><th>15</th><td>14</td><td>16</td><td>-Inf</td></tr><tr><th>16</th><td>15</td><td>16</td><td>-Inf</td></tr><tr><th>17</th><td>16</td><td>16</td><td>-Inf</td></tr></tbody></table>"
      ],
      "text/plain": [
       "17×3 DataFrames.DataFrame\n",
       "│ Row │ x1 │ n  │ c    │\n",
       "├─────┼────┼────┼──────┤\n",
       "│ 1   │ 0  │ 16 │ Inf  │\n",
       "│ 2   │ 1  │ 16 │ Inf  │\n",
       "│ 3   │ 2  │ 16 │ Inf  │\n",
       "│ 4   │ 3  │ 16 │ Inf  │\n",
       "│ 5   │ 4  │ 44 │ 14.0 │\n",
       "│ 6   │ 5  │ 34 │ 11.0 │\n",
       "│ 7   │ 6  │ 29 │ 9.0  │\n",
       "│ 8   │ 7  │ 16 │ -Inf │\n",
       "│ 9   │ 8  │ 16 │ -Inf │\n",
       "│ 10  │ 9  │ 16 │ -Inf │\n",
       "│ 11  │ 10 │ 16 │ -Inf │\n",
       "│ 12  │ 11 │ 16 │ -Inf │\n",
       "│ 13  │ 12 │ 16 │ -Inf │\n",
       "│ 14  │ 13 │ 16 │ -Inf │\n",
       "│ 15  │ 14 │ 16 │ -Inf │\n",
       "│ 16  │ 15 │ 16 │ -Inf │\n",
       "│ 17  │ 16 │ 16 │ -Inf │"
      ]
     },
     "execution_count": 7,
     "metadata": {},
     "output_type": "execute_result"
    }
   ],
   "source": [
    "splspc2 = SimpleSampleSpace(\n",
    "    10:25, # n1 range\n",
    "    100    # nmax\n",
    ")\n",
    "params2 = SimpleMinimalExpectedSampleSize(\n",
    "    splspc2,    # sample space\n",
    "    p0, p1,     # null and planning alternative\n",
    "    toer, tter, # max. type one and two error rates\n",
    "    p1          # alternative on which to minimize expected sample size\n",
    ")\n",
    "design2, res2 = getoptimaldesign(params2, solver, VERBOSE = 0)\n",
    "convert(DataFrame, design2)"
   ]
  },
  {
   "cell_type": "markdown",
   "metadata": {},
   "source": [
    "This optimal design has smaller stage-one sample size and a more variable second stage. However, we continue with the initial design."
   ]
  },
  {
   "cell_type": "markdown",
   "metadata": {},
   "source": [
    "## Inference\n",
    "\n",
    "After completing the trial with 8/25 responses in stage one and 3/6 in stage two, a point estimate and confidence iterval are required. Point estimates were discussed in [Kunzmann & Kieser 2016](http://onlinelibrary.wiley.com/doi/10.1002/sim.7200/abstract) and different estimators are implemented. Here, we use a compatible minimum expected mean squared error estimator with several favorable properties."
   ]
  },
  {
   "cell_type": "code",
   "execution_count": 8,
   "metadata": {},
   "outputs": [
    {
     "data": {
      "text/plain": [
       "0.3585797612104045"
      ]
     },
     "execution_count": 8,
     "metadata": {},
     "output_type": "execute_result"
    }
   ],
   "source": [
    "est = CompatibleEstimator(design, solver)\n",
    "estimate(est, 8, 3)"
   ]
  },
  {
   "cell_type": "markdown",
   "metadata": {},
   "source": [
    "In this case, the maximum likelihood estimator (MLE) would have been $11/n(8) = 11/31 = 0.35483870967$ which is relatively close as the design is not very flexible and thus the bias of the MLE is limited.\n",
    "\n",
    "This estimator induces an ordering on the sample space which in turn implies p values. The major advantage of the novel estimators in [Kunzmann & Kieser 2016](http://onlinelibrary.wiley.com/doi/10.1002/sim.7200/abstract) is the fact that their implied p values are *always* compatible with the design's test decision."
   ]
  },
  {
   "cell_type": "code",
   "execution_count": 9,
   "metadata": {},
   "outputs": [
    {
     "data": {
      "text/plain": [
       "0.032385459554107265"
      ]
     },
     "execution_count": 9,
     "metadata": {},
     "output_type": "execute_result"
    }
   ],
   "source": [
    "p(est, 8, 3, p0)"
   ]
  },
  {
   "cell_type": "markdown",
   "metadata": {},
   "source": [
    "The very same ordering/p values can then be used to derive a Clopper-Pearson type confidence interval (paper under review):"
   ]
  },
  {
   "cell_type": "code",
   "execution_count": 10,
   "metadata": {},
   "outputs": [
    {
     "data": {
      "text/plain": [
       "2-element Array{Float64,1}:\n",
       " 0.214\n",
       " 0.499"
      ]
     },
     "execution_count": 10,
     "metadata": {},
     "output_type": "execute_result"
    }
   ],
   "source": [
    "ci = ClopperPearsonConfidenceInterval(est, confidence = .9)\n",
    "limits(ci, 8, 3)"
   ]
  },
  {
   "cell_type": "code",
   "execution_count": null,
   "metadata": {
    "collapsed": true
   },
   "outputs": [],
   "source": []
  }
 ],
 "metadata": {
  "kernelspec": {
   "display_name": "Julia 0.5.2",
   "language": "julia",
   "name": "julia-0.5"
  },
  "language_info": {
   "file_extension": ".jl",
   "mimetype": "application/julia",
   "name": "julia",
   "version": "0.5.2"
  }
 },
 "nbformat": 4,
 "nbformat_minor": 2
}
